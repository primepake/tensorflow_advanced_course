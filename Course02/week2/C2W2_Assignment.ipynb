{
 "cells": [
  {
   "cell_type": "markdown",
   "metadata": {
    "colab_type": "text",
    "id": "AWqcoPhU3RJN"
   },
   "source": [
    "# Breast Cancer Prediction\n",
    "\n",
    "In this exercise, you will train a neural network on the [Breast Cancer Dataset](https://archive.ics.uci.edu/ml/datasets/breast+cancer+wisconsin+(original)) to predict if the tumor is malignant or benign.\n",
    "\n",
    "If you get stuck, we recommend that you review the ungraded labs for this week."
   ]
  },
  {
   "cell_type": "markdown",
   "metadata": {
    "colab_type": "text",
    "id": "st5AIBFZ5mEQ"
   },
   "source": [
    "## Imports"
   ]
  },
  {
   "cell_type": "code",
   "execution_count": 1,
   "metadata": {
    "colab": {},
    "colab_type": "code",
    "id": "JkMXve8XuN5X"
   },
   "outputs": [],
   "source": [
    "import tensorflow as tf\n",
    "from tensorflow.keras.models import Model\n",
    "from tensorflow.keras.layers import Dense, Input\n",
    "\n",
    "import numpy as np\n",
    "import matplotlib.pyplot as plt\n",
    "import matplotlib.ticker as mticker\n",
    "import pandas as pd\n",
    "from sklearn.model_selection import train_test_split\n",
    "from sklearn.metrics import confusion_matrix\n",
    "import itertools\n",
    "from tqdm import tqdm\n",
    "import tensorflow_datasets as tfds\n",
    "\n",
    "tf.get_logger().setLevel('ERROR')"
   ]
  },
  {
   "cell_type": "markdown",
   "metadata": {
    "colab_type": "text",
    "id": "yUc3HpEQ5s6U"
   },
   "source": [
    "## Load and Preprocess the Dataset"
   ]
  },
  {
   "cell_type": "markdown",
   "metadata": {
    "colab_type": "text",
    "id": "7-TQFUXu5wS_"
   },
   "source": [
    "We first load the dataset and create a data frame using pandas. We explicitly specify the column names because the CSV file does not have column headers."
   ]
  },
  {
   "cell_type": "code",
   "execution_count": 2,
   "metadata": {
    "colab": {},
    "colab_type": "code",
    "id": "HVh-W73J5TjS"
   },
   "outputs": [],
   "source": [
    "data_file = './data/data.csv'\n",
    "col_names = [\"id\", \"clump_thickness\", \"un_cell_size\", \"un_cell_shape\", \"marginal_adheshion\", \"single_eph_cell_size\", \"bare_nuclei\", \"bland_chromatin\", \"normal_nucleoli\", \"mitoses\", \"class\"]\n",
    "df = pd.read_csv(data_file, names=col_names, header=None)"
   ]
  },
  {
   "cell_type": "code",
   "execution_count": 3,
   "metadata": {
    "colab": {},
    "colab_type": "code",
    "id": "XEv8vS_P6HaV"
   },
   "outputs": [
    {
     "data": {
      "text/html": [
       "<div>\n",
       "<style scoped>\n",
       "    .dataframe tbody tr th:only-of-type {\n",
       "        vertical-align: middle;\n",
       "    }\n",
       "\n",
       "    .dataframe tbody tr th {\n",
       "        vertical-align: top;\n",
       "    }\n",
       "\n",
       "    .dataframe thead th {\n",
       "        text-align: right;\n",
       "    }\n",
       "</style>\n",
       "<table border=\"1\" class=\"dataframe\">\n",
       "  <thead>\n",
       "    <tr style=\"text-align: right;\">\n",
       "      <th></th>\n",
       "      <th>id</th>\n",
       "      <th>clump_thickness</th>\n",
       "      <th>un_cell_size</th>\n",
       "      <th>un_cell_shape</th>\n",
       "      <th>marginal_adheshion</th>\n",
       "      <th>single_eph_cell_size</th>\n",
       "      <th>bare_nuclei</th>\n",
       "      <th>bland_chromatin</th>\n",
       "      <th>normal_nucleoli</th>\n",
       "      <th>mitoses</th>\n",
       "      <th>class</th>\n",
       "    </tr>\n",
       "  </thead>\n",
       "  <tbody>\n",
       "    <tr>\n",
       "      <th>0</th>\n",
       "      <td>1000025</td>\n",
       "      <td>5</td>\n",
       "      <td>1</td>\n",
       "      <td>1</td>\n",
       "      <td>1</td>\n",
       "      <td>2</td>\n",
       "      <td>1</td>\n",
       "      <td>3</td>\n",
       "      <td>1</td>\n",
       "      <td>1</td>\n",
       "      <td>2</td>\n",
       "    </tr>\n",
       "    <tr>\n",
       "      <th>1</th>\n",
       "      <td>1002945</td>\n",
       "      <td>5</td>\n",
       "      <td>4</td>\n",
       "      <td>4</td>\n",
       "      <td>5</td>\n",
       "      <td>7</td>\n",
       "      <td>10</td>\n",
       "      <td>3</td>\n",
       "      <td>2</td>\n",
       "      <td>1</td>\n",
       "      <td>2</td>\n",
       "    </tr>\n",
       "    <tr>\n",
       "      <th>2</th>\n",
       "      <td>1015425</td>\n",
       "      <td>3</td>\n",
       "      <td>1</td>\n",
       "      <td>1</td>\n",
       "      <td>1</td>\n",
       "      <td>2</td>\n",
       "      <td>2</td>\n",
       "      <td>3</td>\n",
       "      <td>1</td>\n",
       "      <td>1</td>\n",
       "      <td>2</td>\n",
       "    </tr>\n",
       "    <tr>\n",
       "      <th>3</th>\n",
       "      <td>1016277</td>\n",
       "      <td>6</td>\n",
       "      <td>8</td>\n",
       "      <td>8</td>\n",
       "      <td>1</td>\n",
       "      <td>3</td>\n",
       "      <td>4</td>\n",
       "      <td>3</td>\n",
       "      <td>7</td>\n",
       "      <td>1</td>\n",
       "      <td>2</td>\n",
       "    </tr>\n",
       "    <tr>\n",
       "      <th>4</th>\n",
       "      <td>1017023</td>\n",
       "      <td>4</td>\n",
       "      <td>1</td>\n",
       "      <td>1</td>\n",
       "      <td>3</td>\n",
       "      <td>2</td>\n",
       "      <td>1</td>\n",
       "      <td>3</td>\n",
       "      <td>1</td>\n",
       "      <td>1</td>\n",
       "      <td>2</td>\n",
       "    </tr>\n",
       "  </tbody>\n",
       "</table>\n",
       "</div>"
      ],
      "text/plain": [
       "        id  clump_thickness  un_cell_size  un_cell_shape  marginal_adheshion  \\\n",
       "0  1000025                5             1              1                   1   \n",
       "1  1002945                5             4              4                   5   \n",
       "2  1015425                3             1              1                   1   \n",
       "3  1016277                6             8              8                   1   \n",
       "4  1017023                4             1              1                   3   \n",
       "\n",
       "   single_eph_cell_size bare_nuclei  bland_chromatin  normal_nucleoli  \\\n",
       "0                     2           1                3                1   \n",
       "1                     7          10                3                2   \n",
       "2                     2           2                3                1   \n",
       "3                     3           4                3                7   \n",
       "4                     2           1                3                1   \n",
       "\n",
       "   mitoses  class  \n",
       "0        1      2  \n",
       "1        1      2  \n",
       "2        1      2  \n",
       "3        1      2  \n",
       "4        1      2  "
      ]
     },
     "execution_count": 3,
     "metadata": {},
     "output_type": "execute_result"
    }
   ],
   "source": [
    "df.head()"
   ]
  },
  {
   "cell_type": "markdown",
   "metadata": {
    "colab_type": "text",
    "id": "NvvbnFL36L85"
   },
   "source": [
    "We have to do some preprocessing on the data. We first pop the id column since it is of no use for our problem at hand."
   ]
  },
  {
   "cell_type": "code",
   "execution_count": 4,
   "metadata": {
    "colab": {},
    "colab_type": "code",
    "id": "nDeXwHdA5uUN"
   },
   "outputs": [
    {
     "data": {
      "text/plain": [
       "0      1000025\n",
       "1      1002945\n",
       "2      1015425\n",
       "3      1016277\n",
       "4      1017023\n",
       "        ...   \n",
       "694     776715\n",
       "695     841769\n",
       "696     888820\n",
       "697     897471\n",
       "698     897471\n",
       "Name: id, Length: 699, dtype: int64"
      ]
     },
     "execution_count": 4,
     "metadata": {},
     "output_type": "execute_result"
    }
   ],
   "source": [
    "df.pop(\"id\")"
   ]
  },
  {
   "cell_type": "markdown",
   "metadata": {
    "colab_type": "text",
    "id": "ubw5LueA6ZEY"
   },
   "source": [
    "Upon inspection of data, you can see that some values of the **bare_nuclei** column are unknown. We drop the rows with these unknown values. We also convert the **bare_nuclei** column to numeric. This is required for training the model."
   ]
  },
  {
   "cell_type": "code",
   "execution_count": 5,
   "metadata": {
    "colab": {},
    "colab_type": "code",
    "id": "MCcOrl1ITVhr"
   },
   "outputs": [],
   "source": [
    "df = df[df[\"bare_nuclei\"] != '?' ]\n",
    "df.bare_nuclei = pd.to_numeric(df.bare_nuclei)"
   ]
  },
  {
   "cell_type": "markdown",
   "metadata": {
    "colab_type": "text",
    "id": "UQMhcTQG7LzY"
   },
   "source": [
    "We check the class distribution of the data. You can see that there are two classes, 2.0 and 4.0\n",
    "According to the dataset:\n",
    "* **2.0 = benign**\n",
    "* **4.0 = malignant**\n"
   ]
  },
  {
   "cell_type": "code",
   "execution_count": 6,
   "metadata": {
    "colab": {},
    "colab_type": "code",
    "id": "SaAdQrBv8daS"
   },
   "outputs": [
    {
     "data": {
      "text/plain": [
       "<matplotlib.axes._subplots.AxesSubplot at 0x7f8b6985cfd0>"
      ]
     },
     "execution_count": 6,
     "metadata": {},
     "output_type": "execute_result"
    },
    {
     "data": {
      "image/png": "[encoded data removed]",
      "text/plain": [
       "<Figure size 432x288 with 1 Axes>"
      ]
     },
     "metadata": {
      "needs_background": "light"
     },
     "output_type": "display_data"
    }
   ],
   "source": [
    "df['class'].hist(bins=20) "
   ]
  },
  {
   "cell_type": "markdown",
   "metadata": {
    "colab_type": "text",
    "id": "ENjMKvxQ6sWy"
   },
   "source": [
    "We are going to model this problem as a binary classification problem which detects whether the tumor is malignant or not. Hence, we change the dataset so that:\n",
    "* **benign(2.0) = 0**\n",
    "* **malignant(4.0) = 1**"
   ]
  },
  {
   "cell_type": "code",
   "execution_count": 7,
   "metadata": {
    "colab": {},
    "colab_type": "code",
    "id": "1MVzeUwf_A3E",
    "lines_to_next_cell": 2
   },
   "outputs": [],
   "source": [
    "df['class'] = np.where(df['class'] == 2, 0, 1)"
   ]
  },
  {
   "cell_type": "markdown",
   "metadata": {
    "colab_type": "text",
    "id": "EGbKO1bR8S9h"
   },
   "source": [
    "We then split the dataset into training and testing sets. Since the number of samples is small, we will perform validation on the test set."
   ]
  },
  {
   "cell_type": "code",
   "execution_count": 8,
   "metadata": {
    "colab": {},
    "colab_type": "code",
    "id": "aNUy7JcuAXjC"
   },
   "outputs": [],
   "source": [
    "train, test = train_test_split(df, test_size = 0.2)"
   ]
  },
  {
   "cell_type": "markdown",
   "metadata": {
    "colab_type": "text",
    "id": "H_ZKokUP8kP3"
   },
   "source": [
    "We get the statistics for training. We can look at statistics to get an idea about the distribution of plots. If you need more visualization, you can create additional data plots. We will also be using the mean and standard deviation from statistics for normalizing the data"
   ]
  },
  {
   "cell_type": "code",
   "execution_count": 9,
   "metadata": {
    "colab": {},
    "colab_type": "code",
    "id": "k86tBT_QAm2P"
   },
   "outputs": [],
   "source": [
    "train_stats = train.describe()\n",
    "train_stats.pop('class')\n",
    "train_stats = train_stats.transpose()"
   ]
  },
  {
   "cell_type": "markdown",
   "metadata": {
    "colab_type": "text",
    "id": "l8AJ0Crc8u9t"
   },
   "source": [
    "We pop the class column from the training and test sets to create train and test outputs."
   ]
  },
  {
   "cell_type": "code",
   "execution_count": 10,
   "metadata": {
    "colab": {},
    "colab_type": "code",
    "id": "V7EGUV-tA5LZ"
   },
   "outputs": [],
   "source": [
    "train_Y = train.pop(\"class\")\n",
    "test_Y = test.pop(\"class\")"
   ]
  },
  {
   "cell_type": "markdown",
   "metadata": {
    "colab_type": "text",
    "id": "N9wVRO5E9AgA"
   },
   "source": [
    "Here we normalize the data by using the formula: **X = (X - mean(X)) / StandardDeviation(X)**"
   ]
  },
  {
   "cell_type": "code",
   "execution_count": 11,
   "metadata": {
    "colab": {},
    "colab_type": "code",
    "id": "NDo__q_AA3j0"
   },
   "outputs": [],
   "source": [
    "def norm(x):\n",
    "    return (x - train_stats['mean']) / train_stats['std']"
   ]
  },
  {
   "cell_type": "code",
   "execution_count": 12,
   "metadata": {
    "colab": {},
    "colab_type": "code",
    "id": "pdARlWaDA_8G"
   },
   "outputs": [],
   "source": [
    "norm_train_X = norm(train)\n",
    "norm_test_X = norm(test)"
   ]
  },
  {
   "cell_type": "markdown",
   "metadata": {
    "colab_type": "text",
    "id": "P6LIVZbj9Usv"
   },
   "source": [
    "We now create Tensorflow datasets for training and test sets to easily be able to build and manage an input pipeline for our model."
   ]
  },
  {
   "cell_type": "code",
   "execution_count": 13,
   "metadata": {
    "colab": {},
    "colab_type": "code",
    "id": "1S0RtsP1Xsj8"
   },
   "outputs": [],
   "source": [
    "train_dataset = tf.data.Dataset.from_tensor_slices((norm_train_X.values, train_Y.values))\n",
    "test_dataset = tf.data.Dataset.from_tensor_slices((norm_test_X.values, test_Y.values))"
   ]
  },
  {
   "cell_type": "markdown",
   "metadata": {
    "colab_type": "text",
    "id": "-Nb44PpV9hR4"
   },
   "source": [
    "We shuffle and prepare a batched dataset to be used for training in our custom training loop."
   ]
  },
  {
   "cell_type": "code",
   "execution_count": 14,
   "metadata": {
    "colab": {},
    "colab_type": "code",
    "id": "h9qdsNPen5-F"
   },
   "outputs": [],
   "source": [
    "batch_size = 32\n",
    "train_dataset = train_dataset.shuffle(buffer_size=len(train)).batch(batch_size)\n",
    "\n",
    "test_dataset =  test_dataset.batch(batch_size=batch_size)"
   ]
  },
  {
   "cell_type": "code",
   "execution_count": 15,
   "metadata": {},
   "outputs": [
    {
     "name": "stdout",
     "output_type": "stream",
     "text": [
      "18\n"
     ]
    }
   ],
   "source": [
    "a = enumerate(train_dataset)\n",
    "\n",
    "print(len(list(a)))"
   ]
  },
  {
   "cell_type": "markdown",
   "metadata": {
    "colab_type": "text",
    "id": "GcbOJ6C79qT5"
   },
   "source": [
    "## Define the Model\n",
    "\n",
    "Now we will define the model. Here, we use the Keras Functional API to create a simple network of two `Dense` layers. We have modelled the problem as a binary classification problem and hence we add a single layer with sigmoid activation as the final layer of the model."
   ]
  },
  {
   "cell_type": "code",
   "execution_count": 16,
   "metadata": {
    "colab": {},
    "colab_type": "code",
    "id": "HU3qcM9WBcMh"
   },
   "outputs": [],
   "source": [
    "def base_model():\n",
    "    inputs = tf.keras.layers.Input(shape=(len(train.columns)))\n",
    "\n",
    "    x = tf.keras.layers.Dense(128, activation='relu')(inputs)\n",
    "    x = tf.keras.layers.Dense(64, activation='relu')(x)\n",
    "    outputs = tf.keras.layers.Dense(1, activation='sigmoid')(x)\n",
    "    model = tf.keras.Model(inputs=inputs, outputs=outputs)\n",
    "    return model\n",
    "\n",
    "model = base_model()"
   ]
  },
  {
   "cell_type": "markdown",
   "metadata": {
    "colab_type": "text",
    "id": "NBhKIcKQ-Bwe"
   },
   "source": [
    "## Define Optimizer and Loss\n",
    "\n",
    "We use RMSprop optimizer and binary crossentropy as our loss function."
   ]
  },
  {
   "cell_type": "code",
   "execution_count": 17,
   "metadata": {
    "colab": {},
    "colab_type": "code",
    "id": "v5B3vh6fs84i"
   },
   "outputs": [],
   "source": [
    "optimizer = tf.keras.optimizers.RMSprop(learning_rate=0.001)\n",
    "loss_object = tf.keras.losses.BinaryCrossentropy()"
   ]
  },
  {
   "cell_type": "markdown",
   "metadata": {
    "colab_type": "text",
    "id": "YSNDewgovSZ8"
   },
   "source": [
    "## Evaluate Untrained Model\n",
    "We calculate the loss on the model before training begins."
   ]
  },
  {
   "cell_type": "code",
   "execution_count": 18,
   "metadata": {
    "colab": {},
    "colab_type": "code",
    "id": "TUScS3GbtPXt"
   },
   "outputs": [
    {
     "name": "stdout",
     "output_type": "stream",
     "text": [
      "Loss before training 0.7080\n"
     ]
    }
   ],
   "source": [
    "outputs = model(norm_test_X.values)\n",
    "loss_value = loss_object(y_true=test_Y.values, y_pred=outputs)\n",
    "print(\"Loss before training %.4f\" % loss_value.numpy())"
   ]
  },
  {
   "cell_type": "markdown",
   "metadata": {
    "colab_type": "text",
    "id": "jPPb5ewkzMBY"
   },
   "source": [
    "We also plot the confusion matrix to visualize the true outputs against the outputs predicted by the model."
   ]
  },
  {
   "cell_type": "code",
   "execution_count": 19,
   "metadata": {
    "colab": {},
    "colab_type": "code",
    "id": "ueenYwWZvQM_"
   },
   "outputs": [],
   "source": [
    "def plot_confusion_matrix(y_true, y_pred, title='', labels=[0,1]):\n",
    "    cm = confusion_matrix(y_true, y_pred)\n",
    "    fig = plt.figure()\n",
    "    ax = fig.add_subplot(111)\n",
    "    cax = ax.matshow(cm)\n",
    "    plt.title(title)\n",
    "    fig.colorbar(cax)\n",
    "    ax.set_xticklabels([''] + labels)\n",
    "    ax.set_yticklabels([''] + labels)\n",
    "    plt.xlabel('Predicted')\n",
    "    plt.ylabel('True')\n",
    "    fmt = 'd'\n",
    "    thresh = cm.max() / 2.\n",
    "    for i, j in itertools.product(range(cm.shape[0]), range(cm.shape[1])):\n",
    "          plt.text(j, i, format(cm[i, j], fmt),\n",
    "                  horizontalalignment=\"center\",\n",
    "                  color=\"black\" if cm[i, j] > thresh else \"white\")\n",
    "    plt.show()"
   ]
  },
  {
   "cell_type": "code",
   "execution_count": 20,
   "metadata": {
    "colab": {},
    "colab_type": "code",
    "id": "FApnBUNWv-ZR"
   },
   "outputs": [
    {
     "data": {
      "image/png": "[encoded data removed]",
      "text/plain": [
       "<Figure size 432x288 with 2 Axes>"
      ]
     },
     "metadata": {
      "needs_background": "light"
     },
     "output_type": "display_data"
    }
   ],
   "source": [
    "plot_confusion_matrix(test_Y.values, tf.round(outputs), title='Confusion Matrix for Untrained Model')"
   ]
  },
  {
   "cell_type": "markdown",
   "metadata": {
    "colab_type": "text",
    "id": "7-HTkbQb-gYp"
   },
   "source": [
    "## Define Metrics (Please complete this section)"
   ]
  },
  {
   "cell_type": "markdown",
   "metadata": {
    "colab_type": "text",
    "id": "AYUyRka1-j87"
   },
   "source": [
    "### Define Custom F1Score Metric\n",
    "In this example, we will define a custom F1Score metric using the formula. \n",
    "\n",
    "**F1 Score = 2 * ((precision * recall) / (precision + recall))**\n",
    "\n",
    "**precision = true_positives / (true_positives + false_positives)**\n",
    "\n",
    "**recall = true_positives / (true_positives + false_negatives)**\n",
    "\n",
    "We use `confusion_matrix` defined in `tf.math` to calculate precision and recall.\n",
    "\n",
    "Here you can see that we have subclassed `tf.keras.Metric` and implemented the three required methods `update_state`, `result` and `reset_states`.\n",
    "\n",
    "### Please complete the result() method:"
   ]
  },
  {
   "cell_type": "code",
   "execution_count": 21,
   "metadata": {
    "colab": {},
    "colab_type": "code",
    "id": "PdUe6cqvbzXy"
   },
   "outputs": [],
   "source": [
    "class F1Score(tf.keras.metrics.Metric):\n",
    "\n",
    "    def __init__(self, name='f1_score', **kwargs):\n",
    "        '''initializes attributes of the class'''\n",
    "        \n",
    "        # call the parent class init\n",
    "        super(F1Score, self).__init__(name=name, **kwargs)\n",
    "\n",
    "        # Initialize Required variables\n",
    "        # true positives\n",
    "        self.tp = tf.Variable(0, dtype = 'int32')\n",
    "        # false positives\n",
    "        self.fp = tf.Variable(0, dtype = 'int32')\n",
    "        # true negatives\n",
    "        self.tn = tf.Variable(0, dtype = 'int32')\n",
    "        # false negatives\n",
    "        self.fn = tf.Variable(0, dtype = 'int32')\n",
    "\n",
    "    def update_state(self, y_true, y_pred, sample_weight=None):\n",
    "        '''\n",
    "        Accumulates statistics for the metric\n",
    "        \n",
    "        Args:\n",
    "            y_true: target values from the test data\n",
    "            y_pred: predicted values by the model\n",
    "        '''\n",
    "\n",
    "        # Calulcate confusion matrix.\n",
    "        conf_matrix = tf.math.confusion_matrix(y_true, y_pred, num_classes=2)\n",
    "        \n",
    "        # Update values of true positives, true negatives, false positives and false negatives from confusion matrix.\n",
    "        self.tn.assign_add(conf_matrix[0][0])\n",
    "        self.tp.assign_add(conf_matrix[1][1])\n",
    "        self.fp.assign_add(conf_matrix[0][1])\n",
    "        self.fn.assign_add(conf_matrix[1][0])\n",
    "\n",
    "    def result(self):\n",
    "        '''Computes and returns the metric value tensor.'''\n",
    "\n",
    "        # Calculate precision\n",
    "        if (self.tp + self.fp == 0):\n",
    "            precision = 1.0\n",
    "        else:\n",
    "            precision = self.tp / (self.tp + self.fp)\n",
    "      \n",
    "        # Calculate recall\n",
    "        if (self.tp + self.fn == 0):\n",
    "            recall = 1.0\n",
    "        else:\n",
    "            recall = self.tp / (self.tp + self.fn)\n",
    "\n",
    "        # Return F1 Score\n",
    "        ### START CODE HERE ###\n",
    "        f1_score = 2 * ((precision * recall) / (precision + recall))\n",
    "        ### END CODE HERE ###\n",
    "        \n",
    "        return f1_score\n",
    "\n",
    "    def reset_states(self):\n",
    "        '''Resets all of the metric state variables.'''\n",
    "        \n",
    "        # The state of the metric will be reset at the start of each epoch.\n",
    "        self.tp.assign(0)\n",
    "        self.tn.assign(0) \n",
    "        self.fp.assign(0)\n",
    "        self.fn.assign(0)\n"
   ]
  },
  {
   "cell_type": "code",
   "execution_count": 22,
   "metadata": {},
   "outputs": [
    {
     "data": {
      "text/plain": [
       "<tf.Tensor: shape=(), dtype=float64, numpy=0.2222222222222222>"
      ]
     },
     "execution_count": 22,
     "metadata": {},
     "output_type": "execute_result"
    }
   ],
   "source": [
    "# Test Code:\n",
    "\n",
    "test_F1Score = F1Score()\n",
    "\n",
    "test_F1Score.tp = tf.Variable(2, dtype = 'int32')\n",
    "test_F1Score.fp = tf.Variable(5, dtype = 'int32')\n",
    "test_F1Score.tn = tf.Variable(7, dtype = 'int32')\n",
    "test_F1Score.fn = tf.Variable(9, dtype = 'int32')\n",
    "test_F1Score.result()\n"
   ]
  },
  {
   "cell_type": "markdown",
   "metadata": {},
   "source": [
    "**Expected Output:**\n",
    "\n",
    "```txt\n",
    "<tf.Tensor: shape=(), dtype=float64, numpy=0.2222222222222222>\n",
    "```"
   ]
  },
  {
   "cell_type": "markdown",
   "metadata": {
    "colab_type": "text",
    "id": "xiTa2CePAOTa"
   },
   "source": [
    "We initialize the seprate metrics required for training and validation. In addition to our custom F1Score metric, we are also using `BinaryAccuracy` defined in `tf.keras.metrics`"
   ]
  },
  {
   "cell_type": "code",
   "execution_count": 23,
   "metadata": {
    "colab": {},
    "colab_type": "code",
    "id": "7Pa_x-5-CH_V"
   },
   "outputs": [],
   "source": [
    "train_f1score_metric = F1Score()\n",
    "val_f1score_metric = F1Score()\n",
    "\n",
    "train_acc_metric = tf.keras.metrics.BinaryAccuracy()\n",
    "val_acc_metric = tf.keras.metrics.BinaryAccuracy()"
   ]
  },
  {
   "cell_type": "markdown",
   "metadata": {
    "colab_type": "text",
    "id": "1huOxRpEAxvf"
   },
   "source": [
    "## Apply Gradients (Please complete this section)\n",
    "\n",
    "The core of training is using the model to calculate the logits on specific set of inputs and compute the loss(in this case **binary crossentropy**) by comparing the predicted outputs to the true outputs. We then update the trainable weights using the optimizer algorithm chosen. The optimizer algorithm requires our computed loss and partial derivatives of loss with respect to each of the trainable weights to make updates to the same.\n",
    "\n",
    "We use gradient tape to calculate the gradients and then update the model trainable weights using the optimizer.\n",
    "\n",
    "### Please complete the following function:"
   ]
  },
  {
   "cell_type": "code",
   "execution_count": 24,
   "metadata": {
    "colab": {},
    "colab_type": "code",
    "id": "MMPe25Dstn0v"
   },
   "outputs": [],
   "source": [
    "def apply_gradient(optimizer, loss_object, model, x, y):\n",
    "    '''\n",
    "    applies the gradients to the trainable model weights\n",
    "    \n",
    "    Args:\n",
    "        optimizer: optimizer to update model weights\n",
    "        loss_object: type of loss to measure during training\n",
    "        model: the model we are training\n",
    "        x: input data to the model\n",
    "        y: target values for each input\n",
    "    '''\n",
    "    \n",
    "    with tf.GradientTape() as tape:\n",
    "    ### START CODE HERE ###\n",
    "        logits = model(x)\n",
    "        loss_value = loss_object(y_true=y, y_pred=logits)\n",
    "  \n",
    "    gradients = tape.gradient(loss_value, model.trainable_weights)\n",
    "    optimizer.apply_gradients(zip(gradients, model.trainable_weights))\n",
    "    ### END CODE HERE ###\n",
    "  \n",
    "    return logits, loss_value"
   ]
  },
  {
   "cell_type": "code",
   "execution_count": 25,
   "metadata": {},
   "outputs": [
    {
     "name": "stdout",
     "output_type": "stream",
     "text": [
      "[[0.513217  ]\n",
      " [0.5442816 ]\n",
      " [0.5420087 ]\n",
      " [0.537396  ]\n",
      " [0.54488313]\n",
      " [0.5514629 ]\n",
      " [0.5299857 ]\n",
      " [0.52741575]]\n",
      "0.71540844\n"
     ]
    }
   ],
   "source": [
    "# Test Code:\n",
    "\n",
    "test_model = tf.keras.models.load_model('./test_model')\n",
    "test_logits, test_loss = apply_gradient(optimizer, loss_object, test_model, norm_test_X.values, test_Y.values)\n",
    "\n",
    "print(test_logits.numpy()[:8])\n",
    "print(test_loss.numpy())\n",
    "\n",
    "del test_model\n",
    "del test_logits\n",
    "del test_loss"
   ]
  },
  {
   "cell_type": "markdown",
   "metadata": {},
   "source": [
    "**Expected Output:**\n",
    "\n",
    "The output will be close to these values:\n",
    "```txt\n",
    "[[0.5516499 ]\n",
    " [0.52124363]\n",
    " [0.5412698 ]\n",
    " [0.54203206]\n",
    " [0.50022954]\n",
    " [0.5459626 ]\n",
    " [0.47841492]\n",
    " [0.54381996]]\n",
    "0.7030578\n",
    "```"
   ]
  },
  {
   "cell_type": "markdown",
   "metadata": {
    "colab_type": "text",
    "id": "JYM6GZPjB40r"
   },
   "source": [
    "## Training Loop (Please complete this section)\n",
    "\n",
    "This function performs training during one epoch. We run through all batches of training data in each epoch to make updates to trainable weights using our previous function.\n",
    "You can see that we also call `update_state` on our metrics to accumulate the value of our metrics. \n",
    "\n",
    "We are displaying a progress bar to indicate completion of training in each epoch. Here we use `tqdm` for displaying the progress bar. \n",
    "\n",
    "### Please complete the following function:"
   ]
  },
  {
   "cell_type": "code",
   "execution_count": 28,
   "metadata": {
    "colab": {},
    "colab_type": "code",
    "id": "3fHoh_hgz2PC"
   },
   "outputs": [],
   "source": [
    "def train_data_for_one_epoch(train_dataset, optimizer, loss_object, model, \n",
    "                             train_acc_metric, train_f1score_metric, verbose=True):\n",
    "    '''\n",
    "    Computes the loss then updates the weights and metrics for one epoch.\n",
    "    \n",
    "    Args:\n",
    "        train_dataset: the training dataset\n",
    "        optimizer: optimizer to update model weights\n",
    "        loss_object: type of loss to measure during training\n",
    "        model: the model we are training\n",
    "        train_acc_metric: calculates how often predictions match labels\n",
    "        train_f1score_metric: custom metric we defined earlier\n",
    "    '''\n",
    "    losses = []\n",
    "\n",
    "    #Iterate through all batches of training data\n",
    "    for step, (x_batch_train, y_batch_train) in enumerate(train_dataset):\n",
    "\n",
    "        #Calculate loss and update trainable variables using optimizer\n",
    "        ### START CODE HERE ###\n",
    "        logits, loss_value = apply_gradient(optimizer, loss_object, model, x_batch_train, y_batch_train)\n",
    "        losses.append(loss_value)\n",
    "        ### END CODE HERE ###\n",
    "\n",
    "        #Round off logits to nearest integer and cast to integer for calulating metrics\n",
    "        logits = tf.round(logits)\n",
    "        logits = tf.cast(logits, 'int64')\n",
    "\n",
    "        #Update the training metrics\n",
    "        ### START CODE HERE ###\n",
    "        train_acc_metric.update_state(y_batch_train, logits)\n",
    "        train_f1score_metric.update_state(y_batch_train, logits)\n",
    "        ### END CODE HERE ###\n",
    "\n",
    "        #Update progress\n",
    "        if verbose:\n",
    "            print(\"Training loss for step %s: %.4f\" % (int(step), float(loss_value)))\n",
    "    \n",
    "    return losses"
   ]
  },
  {
   "cell_type": "code",
   "execution_count": 29,
   "metadata": {},
   "outputs": [
    {
     "name": "stdout",
     "output_type": "stream",
     "text": [
      "0.7564053\n",
      "0.6244129\n",
      "0.5423454\n",
      "0.49008718\n",
      "0.42531607\n",
      "0.41988027\n",
      "0.34076852\n",
      "0.37564415\n",
      "0.25054368\n",
      "0.29631615\n",
      "0.2921122\n",
      "0.3038684\n",
      "0.24754609\n",
      "0.31134316\n",
      "0.24775353\n",
      "0.22529915\n",
      "0.16699246\n",
      "0.243081\n"
     ]
    }
   ],
   "source": [
    "# TEST CODE\n",
    "\n",
    "test_model = tf.keras.models.load_model('./test_model')\n",
    "\n",
    "test_losses = train_data_for_one_epoch(train_dataset, optimizer, loss_object, test_model, \n",
    "                             train_acc_metric, train_f1score_metric, verbose=False)\n",
    "\n",
    "for test_loss in test_losses:\n",
    "    print(test_loss.numpy())\n",
    "\n",
    "del test_model\n",
    "del test_losses"
   ]
  },
  {
   "cell_type": "markdown",
   "metadata": {},
   "source": [
    "**Expected Output:**\n",
    "\n",
    "The losses should generally be decreasing and will start from around 0.75. For example:\n",
    "\n",
    "```\n",
    "0.7600615\n",
    "0.6092045\n",
    "0.5525634\n",
    "0.4358902\n",
    "0.4765755\n",
    "0.43327087\n",
    "0.40585428\n",
    "0.32855004\n",
    "0.35755336\n",
    "0.3651728\n",
    "0.33971977\n",
    "0.27372319\n",
    "0.25026917\n",
    "0.29229593\n",
    "0.242178\n",
    "0.20602849\n",
    "0.15887335\n",
    "0.090397514\n",
    "```"
   ]
  },
  {
   "cell_type": "markdown",
   "metadata": {
    "colab_type": "text",
    "id": "d9RJq8BLCsSF"
   },
   "source": [
    "At the end of each epoch, we have to validate the model on the test dataset. The following function calculates the loss on test dataset and updates the states of the validation metrics."
   ]
  },
  {
   "cell_type": "code",
   "execution_count": 30,
   "metadata": {
    "colab": {},
    "colab_type": "code",
    "id": "5gLJyAJE0YRc"
   },
   "outputs": [],
   "source": [
    "def perform_validation():\n",
    "    losses = []\n",
    "\n",
    "    #Iterate through all batches of validation data.\n",
    "    for x_val, y_val in test_dataset:\n",
    "\n",
    "        #Calculate validation loss for current batch.\n",
    "        val_logits = model(x_val) \n",
    "        val_loss = loss_object(y_true=y_val, y_pred=val_logits)\n",
    "        losses.append(val_loss)\n",
    "\n",
    "        #Round off and cast outputs to either  or 1\n",
    "        val_logits = tf.cast(tf.round(model(x_val)), 'int64')\n",
    "\n",
    "        #Update validation metrics\n",
    "        val_acc_metric.update_state(y_val, val_logits)\n",
    "        val_f1score_metric.update_state(y_val, val_logits)\n",
    "        \n",
    "    return losses"
   ]
  },
  {
   "cell_type": "markdown",
   "metadata": {
    "colab_type": "text",
    "id": "DLymSCkUC-CL"
   },
   "source": [
    "Next we define the training loop that runs through the training samples repeatedly over a fixed number of epochs. Here we combine the functions we built earlier to establish the following flow:\n",
    "1. Perform training over all batches of training data.\n",
    "2. Get values of metrics.\n",
    "3. Perform validation to calculate loss and update validation metrics on test data.\n",
    "4. Reset the metrics at the end of epoch.\n",
    "5. Display statistics at the end of each epoch.\n",
    "\n",
    "**Note** : We also calculate the training and validation losses for the whole epoch at the end of the epoch."
   ]
  },
  {
   "cell_type": "code",
   "execution_count": 31,
   "metadata": {
    "colab": {},
    "colab_type": "code",
    "id": "OOO1x3VyuPUV"
   },
   "outputs": [
    {
     "name": "stdout",
     "output_type": "stream",
     "text": [
      "Start of epoch 0\n",
      "Training loss for step 0: 0.7719\n",
      "Training loss for step 1: 0.6305\n",
      "Training loss for step 2: 0.5378\n",
      "Training loss for step 3: 0.4941\n",
      "Training loss for step 4: 0.4496\n",
      "Training loss for step 5: 0.4052\n",
      "Training loss for step 6: 0.3756\n",
      "Training loss for step 7: 0.3575\n",
      "Training loss for step 8: 0.3838\n",
      "Training loss for step 9: 0.2402\n",
      "Training loss for step 10: 0.2490\n",
      "Training loss for step 11: 0.3066\n",
      "Training loss for step 12: 0.1997\n",
      "Training loss for step 13: 0.3461\n",
      "Training loss for step 14: 0.2353\n",
      "Training loss for step 15: 0.2870\n",
      "Training loss for step 16: 0.1763\n",
      "Training loss for step 17: 0.1450\n",
      "\n",
      " Epcoh 0: Train loss: 0.3662  Validation Loss: 0.1872, Train Accuracy: 0.9271, Validation Accuracy 0.9812, Train F1 Score: 0.8988, Validation F1 Score: 0.9670\n",
      "Start of epoch 1\n",
      "Training loss for step 0: 0.1793\n",
      "Training loss for step 1: 0.2258\n",
      "Training loss for step 2: 0.1284\n",
      "Training loss for step 3: 0.1719\n",
      "Training loss for step 4: 0.2116\n",
      "Training loss for step 5: 0.1175\n",
      "Training loss for step 6: 0.1137\n",
      "Training loss for step 7: 0.1200\n",
      "Training loss for step 8: 0.1431\n",
      "Training loss for step 9: 0.2077\n",
      "Training loss for step 10: 0.0775\n",
      "Training loss for step 11: 0.1882\n",
      "Training loss for step 12: 0.0715\n",
      "Training loss for step 13: 0.1164\n",
      "Training loss for step 14: 0.0629\n",
      "Training loss for step 15: 0.0539\n",
      "Training loss for step 16: 0.0789\n",
      "Training loss for step 17: 0.0262\n",
      "\n",
      " Epcoh 1: Train loss: 0.1275  Validation Loss: 0.0946, Train Accuracy: 0.9740, Validation Accuracy 0.9812, Train F1 Score: 0.9618, Validation F1 Score: 0.9670\n",
      "Start of epoch 2\n",
      "Training loss for step 0: 0.2034\n",
      "Training loss for step 1: 0.0846\n",
      "Training loss for step 2: 0.0986\n",
      "Training loss for step 3: 0.0859\n",
      "Training loss for step 4: 0.2783\n",
      "Training loss for step 5: 0.1131\n",
      "Training loss for step 6: 0.0375\n",
      "Training loss for step 7: 0.0491\n",
      "Training loss for step 8: 0.1092\n",
      "Training loss for step 9: 0.0461\n",
      "Training loss for step 10: 0.0540\n",
      "Training loss for step 11: 0.0680\n",
      "Training loss for step 12: 0.0318\n",
      "Training loss for step 13: 0.0521\n",
      "Training loss for step 14: 0.0262\n",
      "Training loss for step 15: 0.0677\n",
      "Training loss for step 16: 0.0278\n",
      "Training loss for step 17: 0.0202\n",
      "\n",
      " Epcoh 2: Train loss: 0.0808  Validation Loss: 0.0747, Train Accuracy: 0.9740, Validation Accuracy 0.9750, Train F1 Score: 0.9616, Validation F1 Score: 0.9565\n",
      "Start of epoch 3\n",
      "Training loss for step 0: 0.0572\n",
      "Training loss for step 1: 0.1533\n",
      "Training loss for step 2: 0.0703\n",
      "Training loss for step 3: 0.0536\n",
      "Training loss for step 4: 0.1295\n",
      "Training loss for step 5: 0.0378\n",
      "Training loss for step 6: 0.0356\n",
      "Training loss for step 7: 0.0530\n",
      "Training loss for step 8: 0.0723\n",
      "Training loss for step 9: 0.1415\n",
      "Training loss for step 10: 0.0204\n",
      "Training loss for step 11: 0.0959\n",
      "Training loss for step 12: 0.0969\n",
      "Training loss for step 13: 0.0663\n",
      "Training loss for step 14: 0.0178\n",
      "Training loss for step 15: 0.0167\n",
      "Training loss for step 16: 0.1294\n",
      "Training loss for step 17: 0.0076\n",
      "\n",
      " Epcoh 3: Train loss: 0.0697  Validation Loss: 0.0690, Train Accuracy: 0.9740, Validation Accuracy 0.9750, Train F1 Score: 0.9616, Validation F1 Score: 0.9565\n",
      "Start of epoch 4\n",
      "Training loss for step 0: 0.1108\n",
      "Training loss for step 1: 0.0302\n",
      "Training loss for step 2: 0.1122\n",
      "Training loss for step 3: 0.0377\n",
      "Training loss for step 4: 0.0176\n",
      "Training loss for step 5: 0.1333\n",
      "Training loss for step 6: 0.1067\n",
      "Training loss for step 7: 0.0243\n",
      "Training loss for step 8: 0.0648\n",
      "Training loss for step 9: 0.1411\n",
      "Training loss for step 10: 0.0246\n",
      "Training loss for step 11: 0.0123\n",
      "Training loss for step 12: 0.0492\n",
      "Training loss for step 13: 0.0109\n",
      "Training loss for step 14: 0.0205\n",
      "Training loss for step 15: 0.0120\n",
      "Training loss for step 16: 0.2219\n",
      "Training loss for step 17: 0.0035\n",
      "\n",
      " Epcoh 4: Train loss: 0.0630  Validation Loss: 0.0656, Train Accuracy: 0.9809, Validation Accuracy 0.9750, Train F1 Score: 0.9720, Validation F1 Score: 0.9556\n"
     ]
    }
   ],
   "source": [
    "# Iterate over epochs.\n",
    "epochs = 5\n",
    "epochs_val_losses, epochs_train_losses = [], []\n",
    "\n",
    "for epoch in range(epochs):\n",
    "    print('Start of epoch %d' % (epoch,))\n",
    "    #Perform Training over all batches of train data\n",
    "    losses_train = train_data_for_one_epoch(train_dataset, optimizer, loss_object, model, train_acc_metric, train_f1score_metric)\n",
    "\n",
    "    # Get results from training metrics\n",
    "    train_acc = train_acc_metric.result()\n",
    "    train_f1score = train_f1score_metric.result()\n",
    "\n",
    "    #Perform validation on all batches of test data\n",
    "    losses_val = perform_validation()\n",
    "\n",
    "    # Get results from validation metrics\n",
    "    val_acc = val_acc_metric.result()\n",
    "    val_f1score = val_f1score_metric.result()\n",
    "\n",
    "    #Calculate training and validation losses for current epoch\n",
    "    losses_train_mean = np.mean(losses_train)\n",
    "    losses_val_mean = np.mean(losses_val)\n",
    "    epochs_val_losses.append(losses_val_mean)\n",
    "    epochs_train_losses.append(losses_train_mean)\n",
    "\n",
    "    print('\\n Epcoh %s: Train loss: %.4f  Validation Loss: %.4f, Train Accuracy: %.4f, Validation Accuracy %.4f, Train F1 Score: %.4f, Validation F1 Score: %.4f' % (epoch, float(losses_train_mean), float(losses_val_mean), float(train_acc), float(val_acc), train_f1score, val_f1score))\n",
    "\n",
    "    #Reset states of all metrics\n",
    "    train_acc_metric.reset_states()\n",
    "    val_acc_metric.reset_states()\n",
    "    val_f1score_metric.reset_states()\n",
    "    train_f1score_metric.reset_states()"
   ]
  },
  {
   "cell_type": "markdown",
   "metadata": {
    "colab_type": "text",
    "id": "JoLxueMdzm14"
   },
   "source": [
    "## Evaluate the Model"
   ]
  },
  {
   "cell_type": "markdown",
   "metadata": {
    "colab_type": "text",
    "id": "6EGW3HVUzqBX"
   },
   "source": [
    "### Plots for Evaluation"
   ]
  },
  {
   "cell_type": "markdown",
   "metadata": {
    "colab_type": "text",
    "id": "t8Wsr6wG0T4h"
   },
   "source": [
    "We plot the progress of loss as training proceeds over number of epochs."
   ]
  },
  {
   "cell_type": "code",
   "execution_count": 32,
   "metadata": {
    "colab": {},
    "colab_type": "code",
    "id": "MsmF_2n307SP"
   },
   "outputs": [
    {
     "data": {
      "image/png": "[encoded data removed]",
      "text/plain": [
       "<Figure size 432x288 with 1 Axes>"
      ]
     },
     "metadata": {
      "needs_background": "light"
     },
     "output_type": "display_data"
    }
   ],
   "source": [
    "def plot_metrics(train_metric, val_metric, metric_name, title, ylim=5):\n",
    "    plt.title(title)\n",
    "    plt.ylim(0,ylim)\n",
    "    plt.gca().xaxis.set_major_locator(mticker.MultipleLocator(1))\n",
    "    plt.plot(train_metric,color='blue',label=metric_name)\n",
    "    plt.plot(val_metric,color='green',label='val_' + metric_name)\n",
    "\n",
    "plot_metrics(epochs_train_losses, epochs_val_losses, \"Loss\", \"Loss\", ylim=1.0)"
   ]
  },
  {
   "cell_type": "markdown",
   "metadata": {
    "colab_type": "text",
    "id": "27fXX7Yqyu5S"
   },
   "source": [
    "We plot the confusion matrix to visualize the true values against the values predicted by the model."
   ]
  },
  {
   "cell_type": "code",
   "execution_count": 33,
   "metadata": {
    "colab": {},
    "colab_type": "code",
    "id": "_9n2XJ9MwpDS"
   },
   "outputs": [
    {
     "data": {
      "image/png": "[encoded data removed]",
      "text/plain": [
       "<Figure size 432x288 with 2 Axes>"
      ]
     },
     "metadata": {
      "needs_background": "light"
     },
     "output_type": "display_data"
    }
   ],
   "source": [
    "test_outputs = model(norm_test_X.values)\n",
    "plot_confusion_matrix(test_Y.values, tf.round(test_outputs), title='Confusion Matrix for Untrained Model')"
   ]
  }
 ],
 "metadata": {
  "coursera": {
   "schema_names": [
    "TF3C2W2-1",
    "TF3C2W2-2",
    "TF3C2W2-3"
   ]
  },
  "kernelspec": {
   "display_name": "Python 3",
   "language": "python",
   "name": "python3"
  },
  "language_info": {
   "codemirror_mode": {
    "name": "ipython",
    "version": 3
   },
   "file_extension": ".py",
   "mimetype": "text/x-python",
   "name": "python",
   "nbconvert_exporter": "python",
   "pygments_lexer": "ipython3",
   "version": "3.9.4"
  }
 },
 "nbformat": 4,
 "nbformat_minor": 4
}
